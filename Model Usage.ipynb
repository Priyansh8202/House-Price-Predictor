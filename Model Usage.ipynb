{
 "cells": [
  {
   "cell_type": "code",
   "execution_count": 3,
   "id": "1650310c-22d1-4f41-b3e6-f8adf26dff17",
   "metadata": {},
   "outputs": [
    {
     "data": {
      "text/plain": [
       "array([49.0045])"
      ]
     },
     "execution_count": 3,
     "metadata": {},
     "output_type": "execute_result"
    }
   ],
   "source": [
    "from joblib import load, dump\n",
    "import numpy as np\n",
    "\n",
    "model = load('Real_state_Price_predictor.joblib')\n",
    "model.predict(np.array([[1.12824651e-07, -1.43135245e+00, -7.12135284e-01,  6.28970939e-01,\n",
    "       -2.90663719e-01,  4.68432311e-01]]))"
   ]
  }
 ],
 "metadata": {
  "kernelspec": {
   "display_name": "Python 3 (ipykernel)",
   "language": "python",
   "name": "python3"
  },
  "language_info": {
   "codemirror_mode": {
    "name": "ipython",
    "version": 3
   },
   "file_extension": ".py",
   "mimetype": "text/x-python",
   "name": "python",
   "nbconvert_exporter": "python",
   "pygments_lexer": "ipython3",
   "version": "3.12.4"
  }
 },
 "nbformat": 4,
 "nbformat_minor": 5
}
